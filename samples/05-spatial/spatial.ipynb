{
    "metadata": {
        "kernelspec": {
            "name": "SQL",
            "display_name": "SQL",
            "language": "sql"
        },
        "language_info": {
            "name": "sql",
            "version": ""
        }
    },
    "nbformat_minor": 2,
    "nbformat": 4,
    "cells": [
        {
            "cell_type": "markdown",
            "source": [
                "# GeoSpatial Support"
            ],
            "metadata": {
                "azdata_cell_guid": "d2b1e6b5-dd8c-4a3e-9c5f-c06851d014de"
            }
        }
    ]
}